{
 "cells": [
  {
   "cell_type": "code",
   "execution_count": 1,
   "id": "eed19926-570a-475c-839a-4c389cd6e196",
   "metadata": {},
   "outputs": [
    {
     "name": "stdout",
     "output_type": "stream",
     "text": [
      "Lookalike model completed and saved to 'Shreesha_Bhat_Lookalike.csv'.\n"
     ]
    }
   ],
   "source": [
    "import pandas as pd\n",
    "from sklearn.metrics.pairwise import cosine_similarity\n",
    "from sklearn.preprocessing import StandardScaler\n",
    "\n",
    "# Load data\n",
    "customers = pd.read_csv('Customers.csv')\n",
    "transactions = pd.read_csv('Transactions.csv')\n",
    "\n",
    "# Merge data to create customer profiles\n",
    "merged_data = pd.merge(transactions, customers, on='CustomerID')\n",
    "\n",
    "# Create customer profiles\n",
    "profiles = merged_data.groupby(['CustomerID', 'Region']).agg({\n",
    "    'TotalValue': 'sum',\n",
    "    'Quantity': 'sum'\n",
    "}).reset_index()\n",
    "\n",
    "# One-hot encode 'Region'\n",
    "profiles = pd.get_dummies(profiles, columns=['Region'])\n",
    "\n",
    "# Normalize features\n",
    "scaler = StandardScaler()\n",
    "scaled_profiles = scaler.fit_transform(profiles.drop('CustomerID', axis=1))\n",
    "\n",
    "# Calculate cosine similarity\n",
    "similarity = cosine_similarity(scaled_profiles)\n",
    "similarity_df = pd.DataFrame(similarity, index=profiles['CustomerID'], columns=profiles['CustomerID'])\n",
    "\n",
    "# Function to get top similar customers\n",
    "def get_top_similar(customer_id, similarity_df, top_n=3):\n",
    "    similar = similarity_df[customer_id].sort_values(ascending=False).iloc[1:top_n+1]\n",
    "    return list(zip(similar.index, similar.values))\n",
    "\n",
    "# Create lookalike map for the first 20 customers\n",
    "lookalike_map = {customer_id: get_top_similar(customer_id, similarity_df) for customer_id in profiles['CustomerID'][:20]}\n",
    "\n",
    "# Save results to CSV\n",
    "lookalike_df = pd.DataFrame(lookalike_map.items(), columns=['CustomerID', 'Lookalikes'])\n",
    "lookalike_df.to_csv('Shreesha_Bhat_Lookalike.csv', index=False)\n",
    "\n",
    "print(\"Lookalike model completed and saved to 'Shreesha_Bhat_Lookalike.csv'.\")"
   ]
  },
  {
   "cell_type": "code",
   "execution_count": null,
   "id": "58ba2172-439a-4b04-b9e7-7d4da1eb21f4",
   "metadata": {},
   "outputs": [],
   "source": []
  }
 ],
 "metadata": {
  "kernelspec": {
   "display_name": "Python 3 (ipykernel)",
   "language": "python",
   "name": "python3"
  },
  "language_info": {
   "codemirror_mode": {
    "name": "ipython",
    "version": 3
   },
   "file_extension": ".py",
   "mimetype": "text/x-python",
   "name": "python",
   "nbconvert_exporter": "python",
   "pygments_lexer": "ipython3",
   "version": "3.11.4"
  }
 },
 "nbformat": 4,
 "nbformat_minor": 5
}
